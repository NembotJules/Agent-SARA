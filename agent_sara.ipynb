{
 "cells": [
  {
   "cell_type": "code",
   "execution_count": 1,
   "metadata": {},
   "outputs": [],
   "source": [
    "import numpy as np\n",
    "import pandas as pd\n",
    "import openpyxl"
   ]
  },
  {
   "cell_type": "markdown",
   "metadata": {},
   "source": [
    "## Load Data\n"
   ]
  },
  {
   "cell_type": "code",
   "execution_count": 2,
   "metadata": {},
   "outputs": [
    {
     "name": "stderr",
     "output_type": "stream",
     "text": [
      "/home/maxtheking/anaconda3/envs/cuda_env/lib/python3.12/site-packages/openpyxl/styles/stylesheet.py:237: UserWarning: Workbook contains no default style, apply openpyxl's default\n",
      "  warn(\"Workbook contains no default style, apply openpyxl's default\")\n",
      "/home/maxtheking/anaconda3/envs/cuda_env/lib/python3.12/site-packages/openpyxl/styles/stylesheet.py:237: UserWarning: Workbook contains no default style, apply openpyxl's default\n",
      "  warn(\"Workbook contains no default style, apply openpyxl's default\")\n"
     ]
    }
   ],
   "source": [
    "transactions_agent_df = pd.read_excel('AGENT_30_07_2025.xlsx', header = 1, engine='openpyxl')\n",
    "transactions_customer_df = pd.read_excel('CUSTOMER_30_07_2025.xlsx', header = 1,  engine = 'openpyxl')"
   ]
  },
  {
   "cell_type": "code",
   "execution_count": 3,
   "metadata": {},
   "outputs": [
    {
     "data": {
      "text/html": [
       "<div>\n",
       "<style scoped>\n",
       "    .dataframe tbody tr th:only-of-type {\n",
       "        vertical-align: middle;\n",
       "    }\n",
       "\n",
       "    .dataframe tbody tr th {\n",
       "        vertical-align: top;\n",
       "    }\n",
       "\n",
       "    .dataframe thead th {\n",
       "        text-align: right;\n",
       "    }\n",
       "</style>\n",
       "<table border=\"1\" class=\"dataframe\">\n",
       "  <thead>\n",
       "    <tr style=\"text-align: right;\">\n",
       "      <th></th>\n",
       "      <th>Unnamed: 0</th>\n",
       "      <th>Date heure</th>\n",
       "      <th>Reference transaction</th>\n",
       "      <th>Type transaction</th>\n",
       "      <th>Type utilisateur transaction</th>\n",
       "      <th>Nom portefeuille expediteur</th>\n",
       "      <th>Numero porte feuille expediteur</th>\n",
       "      <th>Solde expediteur avant transaction</th>\n",
       "      <th>Montant transaction</th>\n",
       "      <th>Solde expediteur apres transaction</th>\n",
       "      <th>Compte bancaire destinataire</th>\n",
       "      <th>Nom destinataire</th>\n",
       "      <th>Numero porte feuille destinataire</th>\n",
       "      <th>Nom portefeuille destinataire</th>\n",
       "      <th>Solde destinataire avant transaction</th>\n",
       "      <th>Solde destinataire apres transaction</th>\n",
       "      <th>Type canal</th>\n",
       "      <th>Statut transaction</th>\n",
       "    </tr>\n",
       "  </thead>\n",
       "  <tbody>\n",
       "    <tr>\n",
       "      <th>0</th>\n",
       "      <td>NaN</td>\n",
       "      <td>2025-07-30 07:56:42</td>\n",
       "      <td>W202507308580107</td>\n",
       "      <td>CASH_IN</td>\n",
       "      <td>AGENT</td>\n",
       "      <td>NaN</td>\n",
       "      <td>NaN</td>\n",
       "      <td>NaN</td>\n",
       "      <td>750000</td>\n",
       "      <td>NaN</td>\n",
       "      <td>10005-00001-38110090602-36</td>\n",
       "      <td>DAP MONNAIE ELECTRONIQUE</td>\n",
       "      <td>2.376736e+11</td>\n",
       "      <td>MULTI-SERVICE SARL</td>\n",
       "      <td>1284750.0</td>\n",
       "      <td>2034750.0</td>\n",
       "      <td>AGENT_WEB</td>\n",
       "      <td>COMPLETED</td>\n",
       "    </tr>\n",
       "    <tr>\n",
       "      <th>1</th>\n",
       "      <td>NaN</td>\n",
       "      <td>2025-07-30 08:01:14</td>\n",
       "      <td>W202507308580182</td>\n",
       "      <td>WALLET_TO_WALLET</td>\n",
       "      <td>AGENT</td>\n",
       "      <td>HOP SERVICESARL</td>\n",
       "      <td>2.376767e+11</td>\n",
       "      <td>8317034.0</td>\n",
       "      <td>1053500</td>\n",
       "      <td>7263534.0</td>\n",
       "      <td>NaN</td>\n",
       "      <td>NaN</td>\n",
       "      <td>2.376837e+11</td>\n",
       "      <td>HOP EDEA IIIHOP EDEA III</td>\n",
       "      <td>500.0</td>\n",
       "      <td>1054000.0</td>\n",
       "      <td>AGENT_WEB</td>\n",
       "      <td>COMPLETED</td>\n",
       "    </tr>\n",
       "    <tr>\n",
       "      <th>2</th>\n",
       "      <td>NaN</td>\n",
       "      <td>2025-07-30 08:01:18</td>\n",
       "      <td>W202507308580185</td>\n",
       "      <td>WALLET_TO_WALLET</td>\n",
       "      <td>AGENT</td>\n",
       "      <td>MULTI-SERVICE SARL</td>\n",
       "      <td>2.376736e+11</td>\n",
       "      <td>2034750.0</td>\n",
       "      <td>2000000</td>\n",
       "      <td>34750.0</td>\n",
       "      <td>NaN</td>\n",
       "      <td>NaN</td>\n",
       "      <td>2.376590e+11</td>\n",
       "      <td>MS MULTISERVICES09SARL</td>\n",
       "      <td>100000.0</td>\n",
       "      <td>2100000.0</td>\n",
       "      <td>AGENT_WEB</td>\n",
       "      <td>COMPLETED</td>\n",
       "    </tr>\n",
       "    <tr>\n",
       "      <th>3</th>\n",
       "      <td>NaN</td>\n",
       "      <td>2025-07-30 08:05:57</td>\n",
       "      <td>W202507308580251</td>\n",
       "      <td>CASH_OUT</td>\n",
       "      <td>AGENT</td>\n",
       "      <td>HOP EDEA IIIHOP EDEA III</td>\n",
       "      <td>2.376837e+11</td>\n",
       "      <td>1054000.0</td>\n",
       "      <td>1053500</td>\n",
       "      <td>500.0</td>\n",
       "      <td>10005-00028-07676711051-68</td>\n",
       "      <td>TEYOMNOU JEAN MARIE</td>\n",
       "      <td>NaN</td>\n",
       "      <td>NaN</td>\n",
       "      <td>NaN</td>\n",
       "      <td>NaN</td>\n",
       "      <td>AGENT_WEB</td>\n",
       "      <td>COMPLETED</td>\n",
       "    </tr>\n",
       "    <tr>\n",
       "      <th>4</th>\n",
       "      <td>NaN</td>\n",
       "      <td>2025-07-30 08:13:06</td>\n",
       "      <td>W202507308580361</td>\n",
       "      <td>WITHDRAW_CAISSE</td>\n",
       "      <td>AGENT</td>\n",
       "      <td>MS MULTISERVICES09SARL</td>\n",
       "      <td>2.376590e+11</td>\n",
       "      <td>2100000.0</td>\n",
       "      <td>2000000</td>\n",
       "      <td>NaN</td>\n",
       "      <td>NaN</td>\n",
       "      <td>NaN</td>\n",
       "      <td>NaN</td>\n",
       "      <td>NaN</td>\n",
       "      <td>NaN</td>\n",
       "      <td>NaN</td>\n",
       "      <td>CAISSE_BANK</td>\n",
       "      <td>COMPLETED</td>\n",
       "    </tr>\n",
       "  </tbody>\n",
       "</table>\n",
       "</div>"
      ],
      "text/plain": [
       "   Unnamed: 0          Date heure Reference transaction  Type transaction  \\\n",
       "0         NaN 2025-07-30 07:56:42      W202507308580107           CASH_IN   \n",
       "1         NaN 2025-07-30 08:01:14      W202507308580182  WALLET_TO_WALLET   \n",
       "2         NaN 2025-07-30 08:01:18      W202507308580185  WALLET_TO_WALLET   \n",
       "3         NaN 2025-07-30 08:05:57      W202507308580251          CASH_OUT   \n",
       "4         NaN 2025-07-30 08:13:06      W202507308580361   WITHDRAW_CAISSE   \n",
       "\n",
       "  Type utilisateur transaction Nom portefeuille expediteur  \\\n",
       "0                        AGENT                         NaN   \n",
       "1                        AGENT             HOP SERVICESARL   \n",
       "2                        AGENT          MULTI-SERVICE SARL   \n",
       "3                        AGENT    HOP EDEA IIIHOP EDEA III   \n",
       "4                        AGENT      MS MULTISERVICES09SARL   \n",
       "\n",
       "   Numero porte feuille expediteur  Solde expediteur avant transaction  \\\n",
       "0                              NaN                                 NaN   \n",
       "1                     2.376767e+11                           8317034.0   \n",
       "2                     2.376736e+11                           2034750.0   \n",
       "3                     2.376837e+11                           1054000.0   \n",
       "4                     2.376590e+11                           2100000.0   \n",
       "\n",
       "   Montant transaction  Solde expediteur apres transaction  \\\n",
       "0               750000                                 NaN   \n",
       "1              1053500                           7263534.0   \n",
       "2              2000000                             34750.0   \n",
       "3              1053500                               500.0   \n",
       "4              2000000                                 NaN   \n",
       "\n",
       "  Compte bancaire destinataire          Nom destinataire  \\\n",
       "0   10005-00001-38110090602-36  DAP MONNAIE ELECTRONIQUE   \n",
       "1                          NaN                       NaN   \n",
       "2                          NaN                       NaN   \n",
       "3   10005-00028-07676711051-68       TEYOMNOU JEAN MARIE   \n",
       "4                          NaN                       NaN   \n",
       "\n",
       "   Numero porte feuille destinataire Nom portefeuille destinataire  \\\n",
       "0                       2.376736e+11            MULTI-SERVICE SARL   \n",
       "1                       2.376837e+11      HOP EDEA IIIHOP EDEA III   \n",
       "2                       2.376590e+11        MS MULTISERVICES09SARL   \n",
       "3                                NaN                           NaN   \n",
       "4                                NaN                           NaN   \n",
       "\n",
       "   Solde destinataire avant transaction  Solde destinataire apres transaction  \\\n",
       "0                             1284750.0                             2034750.0   \n",
       "1                                 500.0                             1054000.0   \n",
       "2                              100000.0                             2100000.0   \n",
       "3                                   NaN                                   NaN   \n",
       "4                                   NaN                                   NaN   \n",
       "\n",
       "    Type canal Statut transaction  \n",
       "0    AGENT_WEB          COMPLETED  \n",
       "1    AGENT_WEB          COMPLETED  \n",
       "2    AGENT_WEB          COMPLETED  \n",
       "3    AGENT_WEB          COMPLETED  \n",
       "4  CAISSE_BANK          COMPLETED  "
      ]
     },
     "execution_count": 3,
     "metadata": {},
     "output_type": "execute_result"
    }
   ],
   "source": [
    "transactions_agent_df.head()"
   ]
  },
  {
   "cell_type": "code",
   "execution_count": 4,
   "metadata": {},
   "outputs": [
    {
     "data": {
      "text/html": [
       "<div>\n",
       "<style scoped>\n",
       "    .dataframe tbody tr th:only-of-type {\n",
       "        vertical-align: middle;\n",
       "    }\n",
       "\n",
       "    .dataframe tbody tr th {\n",
       "        vertical-align: top;\n",
       "    }\n",
       "\n",
       "    .dataframe thead th {\n",
       "        text-align: right;\n",
       "    }\n",
       "</style>\n",
       "<table border=\"1\" class=\"dataframe\">\n",
       "  <thead>\n",
       "    <tr style=\"text-align: right;\">\n",
       "      <th></th>\n",
       "      <th>Unnamed: 0</th>\n",
       "      <th>Date heure</th>\n",
       "      <th>Reference transaction</th>\n",
       "      <th>Type transaction</th>\n",
       "      <th>Type utilisateur transaction</th>\n",
       "      <th>Nom portefeuille expediteur</th>\n",
       "      <th>Numero porte feuille expediteur</th>\n",
       "      <th>Solde expediteur avant transaction</th>\n",
       "      <th>Montant transaction</th>\n",
       "      <th>Solde expediteur apres transaction</th>\n",
       "      <th>Compte bancaire destinataire</th>\n",
       "      <th>Nom destinataire</th>\n",
       "      <th>Numero porte feuille destinataire</th>\n",
       "      <th>Nom portefeuille destinataire</th>\n",
       "      <th>Solde destinataire avant transaction</th>\n",
       "      <th>Solde destinataire apres transaction</th>\n",
       "      <th>Type canal</th>\n",
       "      <th>Statut transaction</th>\n",
       "    </tr>\n",
       "  </thead>\n",
       "  <tbody>\n",
       "    <tr>\n",
       "      <th>0</th>\n",
       "      <td>NaN</td>\n",
       "      <td>2025-07-30 00:00:25</td>\n",
       "      <td>W202507308577427</td>\n",
       "      <td>GIMAC_WALLET_TO_WALLET</td>\n",
       "      <td>CUSTOMER</td>\n",
       "      <td>MAURICE KAMTCHEU DJOMGA</td>\n",
       "      <td>2.376816e+11</td>\n",
       "      <td>460533.8</td>\n",
       "      <td>50000</td>\n",
       "      <td>410433.7</td>\n",
       "      <td>NaN</td>\n",
       "      <td>NaN</td>\n",
       "      <td>NaN</td>\n",
       "      <td>672754133-GIMAC</td>\n",
       "      <td>1.851039e+09</td>\n",
       "      <td>1.851089e+09</td>\n",
       "      <td>SARA_MOBILE</td>\n",
       "      <td>COMPLETED</td>\n",
       "    </tr>\n",
       "    <tr>\n",
       "      <th>1</th>\n",
       "      <td>NaN</td>\n",
       "      <td>2025-07-30 00:00:28</td>\n",
       "      <td>W202507308577428</td>\n",
       "      <td>CASH_IN</td>\n",
       "      <td>CUSTOMER</td>\n",
       "      <td>NaN</td>\n",
       "      <td>NaN</td>\n",
       "      <td>NaN</td>\n",
       "      <td>1000</td>\n",
       "      <td>NaN</td>\n",
       "      <td>10005-00001-38110090602-36</td>\n",
       "      <td>DAP MONNAIE ELECTRONIQUE</td>\n",
       "      <td>2.376969e+11</td>\n",
       "      <td>CLARISSE MAIROUSKOU KEWA</td>\n",
       "      <td>2.955000e+02</td>\n",
       "      <td>1.295500e+03</td>\n",
       "      <td>SARA_MOBILE</td>\n",
       "      <td>COMPLETED</td>\n",
       "    </tr>\n",
       "    <tr>\n",
       "      <th>2</th>\n",
       "      <td>NaN</td>\n",
       "      <td>2025-07-30 00:00:59</td>\n",
       "      <td>W202507308577429</td>\n",
       "      <td>CASH_IN</td>\n",
       "      <td>CUSTOMER</td>\n",
       "      <td>NaN</td>\n",
       "      <td>NaN</td>\n",
       "      <td>NaN</td>\n",
       "      <td>1100</td>\n",
       "      <td>NaN</td>\n",
       "      <td>10005-00001-38110090602-36</td>\n",
       "      <td>DAP MONNAIE ELECTRONIQUE</td>\n",
       "      <td>2.376941e+11</td>\n",
       "      <td>BALEPA III EMMANUEL</td>\n",
       "      <td>5.690000e+01</td>\n",
       "      <td>1.156900e+03</td>\n",
       "      <td>SARA_MOBILE</td>\n",
       "      <td>COMPLETED</td>\n",
       "    </tr>\n",
       "    <tr>\n",
       "      <th>3</th>\n",
       "      <td>NaN</td>\n",
       "      <td>2025-07-30 00:01:46</td>\n",
       "      <td>W202507308577430</td>\n",
       "      <td>CASH_IN</td>\n",
       "      <td>CUSTOMER</td>\n",
       "      <td>NaN</td>\n",
       "      <td>NaN</td>\n",
       "      <td>NaN</td>\n",
       "      <td>5890</td>\n",
       "      <td>NaN</td>\n",
       "      <td>10005-00001-38110090602-36</td>\n",
       "      <td>DAP MONNAIE ELECTRONIQUE</td>\n",
       "      <td>2.376775e+11</td>\n",
       "      <td>WELEPE MOMEGNI WILFRIED</td>\n",
       "      <td>5.200000e+00</td>\n",
       "      <td>5.895200e+03</td>\n",
       "      <td>SARA_MOBILE</td>\n",
       "      <td>COMPLETED</td>\n",
       "    </tr>\n",
       "    <tr>\n",
       "      <th>4</th>\n",
       "      <td>NaN</td>\n",
       "      <td>2025-07-30 00:01:49</td>\n",
       "      <td>W202507308577431</td>\n",
       "      <td>CASH_IN</td>\n",
       "      <td>CUSTOMER</td>\n",
       "      <td>NaN</td>\n",
       "      <td>NaN</td>\n",
       "      <td>NaN</td>\n",
       "      <td>50</td>\n",
       "      <td>NaN</td>\n",
       "      <td>10005-00001-38110090602-36</td>\n",
       "      <td>DAP MONNAIE ELECTRONIQUE</td>\n",
       "      <td>2.376941e+11</td>\n",
       "      <td>BALEPA III EMMANUEL</td>\n",
       "      <td>1.156900e+03</td>\n",
       "      <td>1.206900e+03</td>\n",
       "      <td>SARA_MOBILE</td>\n",
       "      <td>COMPLETED</td>\n",
       "    </tr>\n",
       "  </tbody>\n",
       "</table>\n",
       "</div>"
      ],
      "text/plain": [
       "   Unnamed: 0          Date heure Reference transaction  \\\n",
       "0         NaN 2025-07-30 00:00:25      W202507308577427   \n",
       "1         NaN 2025-07-30 00:00:28      W202507308577428   \n",
       "2         NaN 2025-07-30 00:00:59      W202507308577429   \n",
       "3         NaN 2025-07-30 00:01:46      W202507308577430   \n",
       "4         NaN 2025-07-30 00:01:49      W202507308577431   \n",
       "\n",
       "         Type transaction Type utilisateur transaction  \\\n",
       "0  GIMAC_WALLET_TO_WALLET                     CUSTOMER   \n",
       "1                 CASH_IN                     CUSTOMER   \n",
       "2                 CASH_IN                     CUSTOMER   \n",
       "3                 CASH_IN                     CUSTOMER   \n",
       "4                 CASH_IN                     CUSTOMER   \n",
       "\n",
       "  Nom portefeuille expediteur  Numero porte feuille expediteur  \\\n",
       "0     MAURICE KAMTCHEU DJOMGA                     2.376816e+11   \n",
       "1                         NaN                              NaN   \n",
       "2                         NaN                              NaN   \n",
       "3                         NaN                              NaN   \n",
       "4                         NaN                              NaN   \n",
       "\n",
       "   Solde expediteur avant transaction  Montant transaction  \\\n",
       "0                            460533.8                50000   \n",
       "1                                 NaN                 1000   \n",
       "2                                 NaN                 1100   \n",
       "3                                 NaN                 5890   \n",
       "4                                 NaN                   50   \n",
       "\n",
       "   Solde expediteur apres transaction Compte bancaire destinataire  \\\n",
       "0                            410433.7                          NaN   \n",
       "1                                 NaN   10005-00001-38110090602-36   \n",
       "2                                 NaN   10005-00001-38110090602-36   \n",
       "3                                 NaN   10005-00001-38110090602-36   \n",
       "4                                 NaN   10005-00001-38110090602-36   \n",
       "\n",
       "           Nom destinataire  Numero porte feuille destinataire  \\\n",
       "0                       NaN                                NaN   \n",
       "1  DAP MONNAIE ELECTRONIQUE                       2.376969e+11   \n",
       "2  DAP MONNAIE ELECTRONIQUE                       2.376941e+11   \n",
       "3  DAP MONNAIE ELECTRONIQUE                       2.376775e+11   \n",
       "4  DAP MONNAIE ELECTRONIQUE                       2.376941e+11   \n",
       "\n",
       "  Nom portefeuille destinataire  Solde destinataire avant transaction  \\\n",
       "0               672754133-GIMAC                          1.851039e+09   \n",
       "1      CLARISSE MAIROUSKOU KEWA                          2.955000e+02   \n",
       "2           BALEPA III EMMANUEL                          5.690000e+01   \n",
       "3       WELEPE MOMEGNI WILFRIED                          5.200000e+00   \n",
       "4           BALEPA III EMMANUEL                          1.156900e+03   \n",
       "\n",
       "   Solde destinataire apres transaction   Type canal Statut transaction  \n",
       "0                          1.851089e+09  SARA_MOBILE          COMPLETED  \n",
       "1                          1.295500e+03  SARA_MOBILE          COMPLETED  \n",
       "2                          1.156900e+03  SARA_MOBILE          COMPLETED  \n",
       "3                          5.895200e+03  SARA_MOBILE          COMPLETED  \n",
       "4                          1.206900e+03  SARA_MOBILE          COMPLETED  "
      ]
     },
     "execution_count": 4,
     "metadata": {},
     "output_type": "execute_result"
    }
   ],
   "source": [
    "transactions_customer_df.head()"
   ]
  },
  {
   "cell_type": "markdown",
   "metadata": {},
   "source": [
    "#### Dropping Unnamed:0 column..."
   ]
  },
  {
   "cell_type": "code",
   "execution_count": 5,
   "metadata": {},
   "outputs": [],
   "source": [
    "transactions_agent_df.drop(['Unnamed: 0'], axis = 1, inplace = True)\n",
    "transactions_customer_df.drop(['Unnamed: 0'], axis = 1, inplace = True)"
   ]
  },
  {
   "cell_type": "code",
   "execution_count": null,
   "metadata": {},
   "outputs": [],
   "source": [
    "transactions_agent_df.shape, transactions_customer_df.shape"
   ]
  },
  {
   "cell_type": "code",
   "execution_count": null,
   "metadata": {},
   "outputs": [],
   "source": [
    "transactions_customer_df.columns"
   ]
  },
  {
   "cell_type": "code",
   "execution_count": null,
   "metadata": {},
   "outputs": [],
   "source": [
    "transactions_agent_df.columns"
   ]
  },
  {
   "cell_type": "code",
   "execution_count": null,
   "metadata": {},
   "outputs": [],
   "source": [
    "transactions_customer_df['Type utilisateur transaction'].value_counts()"
   ]
  },
  {
   "cell_type": "code",
   "execution_count": null,
   "metadata": {},
   "outputs": [],
   "source": []
  },
  {
   "cell_type": "code",
   "execution_count": null,
   "metadata": {},
   "outputs": [],
   "source": [
    "transactions_customer_df[transactions_customer_df['Type utilisateur transaction'] != 'CUSTOMER']\n"
   ]
  },
  {
   "cell_type": "code",
   "execution_count": null,
   "metadata": {},
   "outputs": [],
   "source": [
    "transactions_agent_df.head()"
   ]
  },
  {
   "cell_type": "code",
   "execution_count": null,
   "metadata": {},
   "outputs": [],
   "source": [
    "transactions_customer_df.head()"
   ]
  },
  {
   "cell_type": "markdown",
   "metadata": {},
   "source": [
    "#### Taking only successful transactions..."
   ]
  },
  {
   "cell_type": "code",
   "execution_count": 13,
   "metadata": {},
   "outputs": [],
   "source": [
    "transactions_agent_df = transactions_agent_df[transactions_agent_df['Statut transaction'] == \"COMPLETED\"]\n",
    "transactions_customer_df = transactions_customer_df[transactions_customer_df['Statut transaction'] == \"COMPLETED\"]"
   ]
  },
  {
   "cell_type": "markdown",
   "metadata": {},
   "source": [
    "#### Let's see the new shape..."
   ]
  },
  {
   "cell_type": "code",
   "execution_count": null,
   "metadata": {},
   "outputs": [],
   "source": [
    "transactions_agent_df.shape, transactions_customer_df.shape"
   ]
  },
  {
   "cell_type": "markdown",
   "metadata": {},
   "source": [
    "### Combinons les dataframes..."
   ]
  },
  {
   "cell_type": "code",
   "execution_count": 15,
   "metadata": {},
   "outputs": [],
   "source": [
    "# Concatenate both dataframes into a single transactions dataframe\n",
    "transactions_df = pd.concat([transactions_agent_df, transactions_customer_df], ignore_index=True)\n"
   ]
  },
  {
   "cell_type": "markdown",
   "metadata": {},
   "source": [
    "#### Vérifions la fusion..."
   ]
  },
  {
   "cell_type": "code",
   "execution_count": null,
   "metadata": {},
   "outputs": [],
   "source": [
    "transactions_df.shape"
   ]
  },
  {
   "cell_type": "code",
   "execution_count": null,
   "metadata": {},
   "outputs": [],
   "source": [
    "transactions_df['Type utilisateur transaction'].value_counts()"
   ]
  },
  {
   "cell_type": "code",
   "execution_count": null,
   "metadata": {},
   "outputs": [],
   "source": [
    "transactions_df[\"Type transaction\"].value_counts()"
   ]
  },
  {
   "cell_type": "code",
   "execution_count": 19,
   "metadata": {},
   "outputs": [],
   "source": [
    "# Keep only CASH_IN, CASH_OUT and WALLET_TO_WALLET transactions\n",
    "transactions_df = transactions_df[transactions_df['Type transaction'].isin(['CASH_IN', 'CASH_OUT', 'WALLET_TO_WALLET'])]\n"
   ]
  },
  {
   "cell_type": "code",
   "execution_count": null,
   "metadata": {},
   "outputs": [],
   "source": [
    "transactions_df[\"Type transaction\"].value_counts()"
   ]
  },
  {
   "cell_type": "markdown",
   "metadata": {},
   "source": [
    "On a bien les types d'utilisateur transaction désirés (CUSTOMER, AGENT) et le type de transaction (CASH_IN, WALLET_TO_WALLET, CASH_OUT)"
   ]
  },
  {
   "cell_type": "markdown",
   "metadata": {},
   "source": [
    "#### Création des colonnes Date et Heure de transaction"
   ]
  },
  {
   "cell_type": "code",
   "execution_count": 21,
   "metadata": {},
   "outputs": [],
   "source": [
    "\n",
    "#Créer colonne date, et colonne heure\n",
    "transactions_df['Heure transaction'] = pd.to_datetime(transactions_df['Date heure']).dt.time\n",
    "transactions_df['Date transaction'] = pd.to_datetime(transactions_df['Date heure']).dt.date\n",
    "transactions_df.drop(['Date heure'], axis=1, inplace=True)\n",
    "\n",
    "\n",
    "#Numéro portefeuille destinataire \n",
    "transactions_df['Numero porte feuille expediteur'] = transactions_df['Numero porte feuille expediteur'].fillna(0).astype(int).astype(str)\n",
    "#Numéro portefeuille\n",
    "transactions_df['Numero porte feuille destinataire'] = transactions_df['Numero porte feuille destinataire'].fillna(0).astype(int).astype(str)\n"
   ]
  },
  {
   "cell_type": "code",
   "execution_count": null,
   "metadata": {},
   "outputs": [],
   "source": [
    "transactions_df[transactions_df['Type utilisateur transaction'] == 'CUSTOMER']['Nom destinataire'].value_counts()"
   ]
  },
  {
   "cell_type": "code",
   "execution_count": null,
   "metadata": {},
   "outputs": [],
   "source": [
    "transactions_df[transactions_df['Type utilisateur transaction'] == 'CUSTOMER']['Nom portefeuille destinataire'].value_counts()"
   ]
  },
  {
   "cell_type": "markdown",
   "metadata": {},
   "source": [
    "Les opérations effectuées par les CUSTOMER ont pour principale destinataire (cas de versement) le **DAP MONNAIE ELECTRONIQUE**, et pour principale portefeuille destinataire **JANGI DRL**"
   ]
  },
  {
   "cell_type": "code",
   "execution_count": null,
   "metadata": {},
   "outputs": [],
   "source": []
  },
  {
   "cell_type": "markdown",
   "metadata": {},
   "source": [
    "## Obtenir les differents point de services de chaque distributeur\n"
   ]
  },
  {
   "cell_type": "code",
   "execution_count": null,
   "metadata": {},
   "outputs": [],
   "source": [
    "transactions_df['Nom portefeuille expediteur'].unique()"
   ]
  },
  {
   "cell_type": "markdown",
   "metadata": {},
   "source": [
    "#### Removing all the trailing spaces..."
   ]
  },
  {
   "cell_type": "code",
   "execution_count": 25,
   "metadata": {},
   "outputs": [],
   "source": [
    "# Remove trailing spaces from all columns in transactions_df\n",
    "for column in transactions_df.columns:\n",
    "    if transactions_df[column].dtype == 'object':\n",
    "        # Convert to string first and handle NaN values\n",
    "        transactions_df[column] = transactions_df[column].astype(str).replace('nan', '')\n",
    "        transactions_df[column] = transactions_df[column].str.strip()\n"
   ]
  },
  {
   "cell_type": "code",
   "execution_count": null,
   "metadata": {},
   "outputs": [],
   "source": [
    "transactions_df[transactions_df['Type utilisateur transaction'] == 'AGENT']['Nom portefeuille expediteur'].unique()"
   ]
  },
  {
   "cell_type": "markdown",
   "metadata": {},
   "source": [
    "#### Chargement des différents point de services"
   ]
  },
  {
   "cell_type": "markdown",
   "metadata": {},
   "source": [
    "#### Function to identify all hop agencies"
   ]
  },
  {
   "cell_type": "code",
   "execution_count": null,
   "metadata": {},
   "outputs": [],
   "source": [
    "# Define a function to check if a name matches HOP patterns\n",
    "def is_hop_agency(name):\n",
    "    if not isinstance(name, str):\n",
    "        return False\n",
    "    name = name.strip().upper()\n",
    "    return (name.startswith('HOP') or \n",
    "            name == 'HOP SERVICESARL' or\n",
    "            name == 'ALBINEHOP' or \n",
    "            name == 'DTN NANGA NANGA JUNIORHOP SIEGE DCM')\n",
    "\n",
    "# Get transactions where either sender or receiver matches HOP pattern\n",
    "hop_transactions_df = transactions_df[\n",
    "    (transactions_df['Nom portefeuille expediteur'].apply(is_hop_agency)) |\n",
    "    (transactions_df['Nom portefeuille destinataire'].apply(is_hop_agency))\n",
    "].copy()\n",
    "\n",
    "# Display first few rows\n",
    "print(\"HOP transactions:\")\n",
    "hop_transactions_df.head()\n"
   ]
  },
  {
   "cell_type": "code",
   "execution_count": null,
   "metadata": {},
   "outputs": [],
   "source": [
    "hop_transactions_df.shape"
   ]
  },
  {
   "cell_type": "markdown",
   "metadata": {},
   "source": [
    "#### Emi money agences"
   ]
  },
  {
   "cell_type": "markdown",
   "metadata": {},
   "source": [
    "#### Function to identify Emi money transactions..."
   ]
  },
  {
   "cell_type": "code",
   "execution_count": null,
   "metadata": {},
   "outputs": [],
   "source": [
    "# Define a function to check if a name matches EMI Money patterns\n",
    "def is_emi_money_agency(name):\n",
    "    if not isinstance(name, str):\n",
    "        return False\n",
    "    name = name.strip()\n",
    "    patterns = ['Emi money', 'EMI MONEY', 'Sarl Emi', 'Sarl Emi money', 'EMI MONEY SARL']\n",
    "    return any(pattern in name for pattern in patterns)\n",
    "\n",
    "# Get transactions where either sender or receiver matches EMI Money pattern\n",
    "emi_money_transactions_df = transactions_df[\n",
    "    (transactions_df['Nom portefeuille expediteur'].apply(is_emi_money_agency)) |\n",
    "    (transactions_df['Nom portefeuille destinataire'].apply(is_emi_money_agency)) |\n",
    "    (transactions_df['Nom portefeuille expediteur'] == 'EMI MONEY SARL') |\n",
    "    (transactions_df['Nom portefeuille destinataire'] == 'EMI MONEY SARL')\n",
    "].copy()\n",
    "\n",
    "# Display first few rows\n",
    "print(\"EMI Money transactions:\")\n",
    "emi_money_transactions_df.head()\n"
   ]
  },
  {
   "cell_type": "code",
   "execution_count": null,
   "metadata": {},
   "outputs": [],
   "source": [
    "emi_money_transactions_df.shape"
   ]
  },
  {
   "cell_type": "markdown",
   "metadata": {},
   "source": [
    "#### Function to identify Express Union agences"
   ]
  },
  {
   "cell_type": "code",
   "execution_count": null,
   "metadata": {},
   "outputs": [],
   "source": [
    "# Define a function to check if a name matches Express Union patterns\n",
    "def is_express_union_agency(name):\n",
    "    if not isinstance(name, str):\n",
    "        return False\n",
    "    name = name.strip()\n",
    "    return name.startswith('EU ') or name.startswith('EUF ') or name == 'EXPRESS UNIONSA'\n",
    "\n",
    "# Get transactions where either sender or receiver matches Express Union pattern\n",
    "express_union_transactions_df = transactions_df[\n",
    "    (transactions_df['Nom portefeuille expediteur'].apply(is_express_union_agency)) |\n",
    "    (transactions_df['Nom portefeuille destinataire'].apply(is_express_union_agency))\n",
    "].copy()\n",
    "\n",
    "# Display first few rows\n",
    "print(\"Express Union transactions:\")\n",
    "express_union_transactions_df.head()\n"
   ]
  },
  {
   "cell_type": "code",
   "execution_count": null,
   "metadata": {},
   "outputs": [],
   "source": [
    "express_union_transactions_df.shape"
   ]
  },
  {
   "cell_type": "markdown",
   "metadata": {},
   "source": [
    "#### Function to identify all Instant transfert transactions(IT)"
   ]
  },
  {
   "cell_type": "code",
   "execution_count": null,
   "metadata": {},
   "outputs": [],
   "source": [
    "# Define a function to check if a name matches Instant Transfer patterns\n",
    "def is_instant_transfer_agency(name):\n",
    "    if not isinstance(name, str):\n",
    "        return False\n",
    "    name = name.strip()\n",
    "    return name.startswith('IT ') or name == 'INSTANTTRANSFER SARL'\n",
    "\n",
    "# Get transactions where either sender or receiver matches Instant Transfer pattern \n",
    "instant_transfer_transactions_df = transactions_df[\n",
    "    (transactions_df['Nom portefeuille expediteur'].apply(is_instant_transfer_agency)) |\n",
    "    (transactions_df['Nom portefeuille destinataire'].apply(is_instant_transfer_agency))\n",
    "].copy()\n",
    "\n",
    "# Display first few rows\n",
    "print(\"Instant Transfer transactions:\")\n",
    "instant_transfer_transactions_df.head()\n"
   ]
  },
  {
   "cell_type": "code",
   "execution_count": null,
   "metadata": {},
   "outputs": [],
   "source": [
    "instant_transfer_transactions_df.shape"
   ]
  },
  {
   "cell_type": "markdown",
   "metadata": {},
   "source": [
    "#### Function to identify Multi-Service Sarl transactions"
   ]
  },
  {
   "cell_type": "code",
   "execution_count": null,
   "metadata": {},
   "outputs": [],
   "source": [
    "# # Extract CB entries to add to call_box_agences\n",
    "# cb_entries = np.array([x for x in ms_agences if x.startswith('CB ')])\n",
    "\n",
    "# # Combine with existing call_box_agences and remove duplicates\n",
    "# call_box_agences = np.unique(np.concatenate([call_box_agences, cb_entries]))\n",
    "\n",
    "# # Filter out CB entries from ms_agences array\n",
    "# ms_agences = np.array([x for x in ms_agences if not x.startswith('CB ')])\n",
    "\n",
    "# # Display filtered ms_agences\n",
    "# ms_agences"
   ]
  },
  {
   "cell_type": "code",
   "execution_count": null,
   "metadata": {},
   "outputs": [],
   "source": [
    "# Define a function to check if a name matches Multi-Service patterns\n",
    "def is_multiservice_agency(name):\n",
    "    if not isinstance(name, str):\n",
    "        return False\n",
    "    name = name.strip()\n",
    "    # Check if name starts with 'MS ' or contains 'MULTI-SERVICE'\n",
    "    if name.startswith('MS ') or 'MULTI-SERVICE' in name.upper():\n",
    "        return True\n",
    "    # Check for isolated 'MS' in the name\n",
    "    words = name.split()\n",
    "    if 'MS' in words:\n",
    "        return True\n",
    "    return False\n",
    "\n",
    "# Get transactions where either sender or receiver matches Multi-Service pattern\n",
    "multiservice_transactions_df = transactions_df[\n",
    "    (transactions_df['Nom portefeuille expediteur'].apply(is_multiservice_agency)) |\n",
    "    (transactions_df['Nom portefeuille destinataire'].apply(is_multiservice_agency))\n",
    "].copy()\n",
    "\n",
    "# Display first few rows\n",
    "print(\"Multi-Service transactions:\")\n",
    "multiservice_transactions_df.head()\n"
   ]
  },
  {
   "cell_type": "code",
   "execution_count": null,
   "metadata": {},
   "outputs": [],
   "source": [
    "multiservice_transactions_df['Nom portefeuille expediteur'].unique()"
   ]
  },
  {
   "cell_type": "code",
   "execution_count": null,
   "metadata": {},
   "outputs": [],
   "source": [
    "# Filter for transactions with 'MULTI-SERVICE SARL' as either sender or receiver\n",
    "super_agent_transactions = multiservice_transactions_df[\n",
    "    (multiservice_transactions_df['Nom portefeuille expediteur'] == 'MULTI-SERVICE SARL') |\n",
    "    (multiservice_transactions_df['Nom portefeuille destinataire'] == 'MULTI-SERVICE SARL')\n",
    "]\n",
    "\n",
    "# Display the filtered transactions\n",
    "print(\"Super agent (MULTI-SERVICE SARL) transactions:\")\n",
    "super_agent_transactions.head()\n"
   ]
  },
  {
   "cell_type": "code",
   "execution_count": null,
   "metadata": {},
   "outputs": [],
   "source": [
    "multiservice_transactions_df.shape"
   ]
  },
  {
   "cell_type": "markdown",
   "metadata": {},
   "source": [
    "#### Function to identify Muffa transactions..."
   ]
  },
  {
   "cell_type": "code",
   "execution_count": null,
   "metadata": {},
   "outputs": [],
   "source": [
    "# Define a function to check if a name matches Muffa patterns\n",
    "def is_muffa_agency(name):\n",
    "    if not isinstance(name, str):\n",
    "        return False\n",
    "    name = name.strip().upper()\n",
    "    return name.startswith('MUFFA')\n",
    "\n",
    "# Get transactions where either sender or receiver matches Muffa pattern\n",
    "muffa_transactions_df = transactions_df[\n",
    "    (transactions_df['Nom portefeuille expediteur'].apply(is_muffa_agency)) |\n",
    "    (transactions_df['Nom portefeuille destinataire'].apply(is_muffa_agency))\n",
    "].copy()\n",
    "\n",
    "# Display first few rows\n",
    "print(\"Muffa transactions:\")\n",
    "muffa_transactions_df.head()\n"
   ]
  },
  {
   "cell_type": "code",
   "execution_count": null,
   "metadata": {},
   "outputs": [],
   "source": [
    "muffa_transactions_df.shape"
   ]
  },
  {
   "cell_type": "markdown",
   "metadata": {},
   "source": [
    "#### Function to identify all Call box transactions"
   ]
  },
  {
   "cell_type": "code",
   "execution_count": null,
   "metadata": {},
   "outputs": [],
   "source": [
    "# Define a function to check if a name matches Call Box patterns\n",
    "def is_call_box_agency(name):\n",
    "    if not isinstance(name, str):\n",
    "        return False\n",
    "    name = name.strip().upper()\n",
    "    return name.startswith('CB')\n",
    "\n",
    "# Get transactions where either sender or receiver matches Call Box pattern\n",
    "call_box_transactions_df = transactions_df[\n",
    "    (transactions_df['Nom portefeuille expediteur'].apply(is_call_box_agency)) |\n",
    "    (transactions_df['Nom portefeuille destinataire'].apply(is_call_box_agency))\n",
    "].copy()\n",
    "\n",
    "# Display first few rows\n",
    "print(\"Call Box transactions:\")\n",
    "call_box_transactions_df.head()\n"
   ]
  },
  {
   "cell_type": "code",
   "execution_count": null,
   "metadata": {},
   "outputs": [],
   "source": [
    "call_box_transactions_df.shape"
   ]
  },
  {
   "cell_type": "markdown",
   "metadata": {},
   "source": [
    "#### Super agent Names..."
   ]
  },
  {
   "cell_type": "code",
   "execution_count": 44,
   "metadata": {},
   "outputs": [],
   "source": [
    "hop_super_agent = 'HOP SERVICESARL'\n",
    "express_union_super_agent = 'EXPRESS UNIONSA'\n",
    "emi_money_super_agent = 'EMI MONEY SARL'\n",
    "multiservice_super_agent = 'MULTI-SERVICE SARL'\n",
    "instant_transfer_super_agent = 'INSTANTTRANSFER SARL'"
   ]
  },
  {
   "cell_type": "markdown",
   "metadata": {},
   "source": [
    "#### Recap of the different agences dataframes"
   ]
  },
  {
   "cell_type": "code",
   "execution_count": null,
   "metadata": {},
   "outputs": [],
   "source": [
    "hop_transactions_df.shape, emi_money_transactions_df.shape, express_union_transactions_df.shape, instant_transfer_transactions_df.shape, multiservice_transactions_df.shape, muffa_transactions_df.shape, call_box_transactions_df.shape\n"
   ]
  },
  {
   "cell_type": "code",
   "execution_count": null,
   "metadata": {},
   "outputs": [],
   "source": [
    "# Sum all rows from different agency dataframes\n",
    "total_agency_transactions = (\n",
    "    len(hop_transactions_df) + \n",
    "    len(emi_money_transactions_df) + \n",
    "    len(express_union_transactions_df) + \n",
    "    len(instant_transfer_transactions_df) + \n",
    "    len(multiservice_transactions_df) + \n",
    "    len(muffa_transactions_df) + \n",
    "    len(call_box_transactions_df)\n",
    ")\n",
    "\n",
    "print(f\"Total number of agency transactions: {total_agency_transactions}\")\n"
   ]
  },
  {
   "cell_type": "code",
   "execution_count": null,
   "metadata": {},
   "outputs": [],
   "source": [
    "# Get all transactions that are not in any agency dataframe\n",
    "non_agency_transactions = transactions_df[\n",
    "    ~(\n",
    "        # Check if transaction is not in any agency dataframe\n",
    "        transactions_df.index.isin(hop_transactions_df.index) |\n",
    "        transactions_df.index.isin(emi_money_transactions_df.index) |\n",
    "        transactions_df.index.isin(express_union_transactions_df.index) |\n",
    "        transactions_df.index.isin(instant_transfer_transactions_df.index) |\n",
    "        transactions_df.index.isin(multiservice_transactions_df.index) |\n",
    "        transactions_df.index.isin(muffa_transactions_df.index) |\n",
    "        transactions_df.index.isin(call_box_transactions_df.index)\n",
    "    )\n",
    "].copy()\n",
    "\n",
    "print(f\"Number of transactions not in any agency dataframe: {len(non_agency_transactions)}\")\n",
    "print(\"\\nSample of transactions not in any agency dataframe:\")\n",
    "display(non_agency_transactions.head())\n"
   ]
  },
  {
   "cell_type": "markdown",
   "metadata": {},
   "source": [
    "#### Let's see the different agent we are not capturing...\n"
   ]
  },
  {
   "cell_type": "code",
   "execution_count": null,
   "metadata": {},
   "outputs": [],
   "source": [
    "# Get unique sender and receiver names for AGENT transactions not captured by any agency\n",
    "agent_senders = non_agency_transactions[non_agency_transactions['Type utilisateur transaction'] == 'AGENT']['Nom portefeuille expediteur'].unique()\n",
    "agent_receivers = non_agency_transactions[non_agency_transactions['Type utilisateur transaction'] == 'AGENT']['Nom portefeuille destinataire'].unique()\n",
    "\n",
    "print(\"Unique sender names for AGENT transactions not captured:\")\n",
    "print(\"-----------------------------------------------------\")\n",
    "for sender in agent_senders:\n",
    "    print(sender)\n",
    "    \n",
    "print(\"\\nUnique receiver names for AGENT transactions not captured:\")\n",
    "print(\"-------------------------------------------------------\") \n",
    "for receiver in agent_receivers:\n",
    "    print(receiver)\n"
   ]
  },
  {
   "cell_type": "markdown",
   "metadata": {},
   "source": [
    "## Donner le type de transaction"
   ]
  },
  {
   "cell_type": "code",
   "execution_count": 49,
   "metadata": {},
   "outputs": [],
   "source": [
    "def categorize_transactions(df, is_agency_func, super_agent=None):\n",
    "    \"\"\"\n",
    "    Categorizes transactions based on type and participants.\n",
    "    \n",
    "    Args:\n",
    "        df: DataFrame containing transactions\n",
    "        is_agency_func: Function that takes a name and returns True if it belongs to the agency\n",
    "        super_agent: Name of the super agent (optional)\n",
    "        \n",
    "    Returns:\n",
    "        DataFrame with categorized transaction types\n",
    "    \"\"\"\n",
    "    # Create a copy of the DataFrame to avoid modifying the original\n",
    "    df = df.copy()\n",
    "    \n",
    "    # Replace CASH_IN and CASH_OUT\n",
    "    df['Type transaction'] = df['Type transaction'].replace({\n",
    "        'CASH_IN': 'Approvisionement',\n",
    "        'CASH_OUT': 'Versement bancaire'\n",
    "    })\n",
    "\n",
    "    # Handle WALLET_TO_WALLET cases\n",
    "    wallet_mask = df['Type transaction'] == 'WALLET_TO_WALLET'\n",
    "\n",
    "    # Case 1: From agency or super agent to non-agency (Dépot)\n",
    "    depot_mask = (\n",
    "        wallet_mask & \n",
    "        ((df['Nom portefeuille expediteur'].apply(is_agency_func)) | \n",
    "         (df['Nom portefeuille expediteur'] == super_agent)) &\n",
    "        ~df['Nom portefeuille destinataire'].apply(is_agency_func)\n",
    "    )\n",
    "    df.loc[depot_mask, 'Type transaction'] = 'Dépot'\n",
    "\n",
    "    # Case 2: From non-agency and non-super agent to agency (Retrait)\n",
    "    retrait_mask = (\n",
    "        wallet_mask &\n",
    "        ~df['Nom portefeuille expediteur'].apply(is_agency_func) &\n",
    "        (df['Nom portefeuille expediteur'] != super_agent) &\n",
    "        df['Nom portefeuille destinataire'].apply(is_agency_func)\n",
    "    )\n",
    "    df.loc[retrait_mask, 'Type transaction'] = 'Retrait'\n",
    "\n",
    "    # Only apply super agent logic if super_agent is provided\n",
    "    if super_agent:\n",
    "        # Case 3: From super agent to its own agency type (Approvisionement)\n",
    "        appro_mask = (\n",
    "            wallet_mask &\n",
    "            (df['Nom portefeuille expediteur'] == super_agent) &\n",
    "            df['Nom portefeuille destinataire'].apply(is_agency_func)\n",
    "        )\n",
    "        df.loc[appro_mask, 'Type transaction'] = 'Approvisionement'\n",
    "\n",
    "        # Case 4: From agency to its own super agent type (Décharge)\n",
    "        decharge_mask = (\n",
    "            wallet_mask &\n",
    "            df['Nom portefeuille expediteur'].apply(is_agency_func) &\n",
    "            (df['Nom portefeuille destinataire'] == super_agent)\n",
    "        )\n",
    "        df.loc[decharge_mask, 'Type transaction'] = 'Décharge'\n",
    "\n",
    "    # Handle transactions between different types of agents\n",
    "    def is_any_agency(name):\n",
    "        return (is_hop_agency(name) or is_emi_money_agency(name) or \n",
    "                is_express_union_agency(name) or is_instant_transfer_agency(name) or\n",
    "                is_multiservice_agency(name) or is_muffa_agency(name) or \n",
    "                is_call_box_agency(name))\n",
    "\n",
    "    inter_agency_mask = wallet_mask & (\n",
    "        df['Nom portefeuille expediteur'].apply(is_any_agency) &\n",
    "        df['Nom portefeuille destinataire'].apply(is_any_agency)\n",
    "    )\n",
    "    \n",
    "    # For these inter-agency transactions, classify based on balance changes\n",
    "    retrait_by_balance = (\n",
    "        inter_agency_mask &\n",
    "        (df['Solde expediteur avant transaction'] > df['Solde expediteur apres transaction'])\n",
    "    )\n",
    "    df.loc[retrait_by_balance, 'Type transaction'] = 'Dépot'\n",
    "    \n",
    "    depot_by_balance = (\n",
    "        inter_agency_mask &\n",
    "        (df['Solde expediteur avant transaction'] < df['Solde expediteur apres transaction'])\n",
    "    )\n",
    "    df.loc[depot_by_balance, 'Type transaction'] = 'Retrait'\n",
    "    \n",
    "    return df\n",
    "\n",
    "# Apply categorization to each dataframe separately\n",
    "hop_transactions_df = categorize_transactions(hop_transactions_df, is_hop_agency, hop_super_agent)\n",
    "emi_money_transactions_df = categorize_transactions(emi_money_transactions_df, is_emi_money_agency, None)\n",
    "express_union_transactions_df = categorize_transactions(express_union_transactions_df, is_express_union_agency, express_union_super_agent)\n",
    "instant_transfer_transactions_df = categorize_transactions(instant_transfer_transactions_df, is_instant_transfer_agency, instant_transfer_super_agent)\n",
    "multiservice_transactions_df = categorize_transactions(multiservice_transactions_df, is_multiservice_agency, multiservice_super_agent)\n",
    "muffa_transactions_df = categorize_transactions(muffa_transactions_df, is_muffa_agency, None)\n",
    "call_box_transactions_df = categorize_transactions(call_box_transactions_df, is_call_box_agency, None)\n"
   ]
  },
  {
   "cell_type": "code",
   "execution_count": null,
   "metadata": {},
   "outputs": [],
   "source": [
    "hop_transactions_df.head()"
   ]
  },
  {
   "cell_type": "code",
   "execution_count": null,
   "metadata": {},
   "outputs": [],
   "source": [
    "hop_transactions_df['Type transaction'].value_counts()"
   ]
  },
  {
   "cell_type": "code",
   "execution_count": null,
   "metadata": {},
   "outputs": [],
   "source": [
    "express_union_transactions_df['Type transaction'].value_counts()"
   ]
  },
  {
   "cell_type": "code",
   "execution_count": null,
   "metadata": {},
   "outputs": [],
   "source": [
    "instant_transfer_transactions_df['Type transaction'].value_counts()"
   ]
  },
  {
   "cell_type": "code",
   "execution_count": null,
   "metadata": {},
   "outputs": [],
   "source": [
    "emi_money_transactions_df['Type transaction'].value_counts()"
   ]
  },
  {
   "cell_type": "code",
   "execution_count": null,
   "metadata": {},
   "outputs": [],
   "source": [
    "multiservice_transactions_df['Type transaction'].value_counts()"
   ]
  },
  {
   "cell_type": "code",
   "execution_count": null,
   "metadata": {},
   "outputs": [],
   "source": [
    "call_box_transactions_df['Type transaction'].value_counts()"
   ]
  },
  {
   "cell_type": "markdown",
   "metadata": {},
   "source": [
    "## Vérifier les cas de Retrait et de Décharge"
   ]
  },
  {
   "cell_type": "code",
   "execution_count": null,
   "metadata": {},
   "outputs": [],
   "source": [
    "instant_transfer_transactions_df[instant_transfer_transactions_df['Type transaction'].isin(['Retrait', 'Décharge'])]"
   ]
  },
  {
   "cell_type": "markdown",
   "metadata": {},
   "source": [
    "## Créer les soldes"
   ]
  },
  {
   "cell_type": "code",
   "execution_count": null,
   "metadata": {},
   "outputs": [],
   "source": [
    "def create_solde_columns(df):\n",
    "    \"\"\"\n",
    "    Creates unified agent perspective columns for all agency types.\n",
    "    Uses the specific agency recognition functions instead of hardcoded lists.\n",
    "    \"\"\"\n",
    "    # Helper function to check if a name belongs to any agency type\n",
    "    def is_any_agency(name):\n",
    "        return (is_hop_agency(name) or is_emi_money_agency(name) or \n",
    "                is_express_union_agency(name) or is_instant_transfer_agency(name) or\n",
    "                is_multiservice_agency(name) or is_muffa_agency(name) or \n",
    "                is_call_box_agency(name))\n",
    "    \n",
    "    # First create annuaire_df with unique Nom/Numero pairs\n",
    "    expediteur_pairs = df[['Nom portefeuille expediteur', 'Numero porte feuille expediteur']].rename(\n",
    "        columns={'Nom portefeuille expediteur': 'Nom portefeuille', \n",
    "                'Numero porte feuille expediteur': 'Numero portefeuille'}\n",
    "    )\n",
    "    destinataire_pairs = df[['Nom portefeuille destinataire', 'Numero porte feuille destinataire']].rename(\n",
    "        columns={'Nom portefeuille destinataire': 'Nom portefeuille',\n",
    "                'Numero porte feuille destinataire': 'Numero portefeuille'}\n",
    "    )\n",
    "    annuaire_df = pd.concat([expediteur_pairs, destinataire_pairs]).drop_duplicates().dropna()\n",
    "\n",
    "    # Create annuaire for bank accounts\n",
    "    bank_annuaire = df[['Nom destinataire', 'Compte bancaire destinataire']].dropna().drop_duplicates()\n",
    "\n",
    "    # Create new columns\n",
    "    df['Nom portefeuille'] = None\n",
    "    df['Numero portefeuille'] = None\n",
    "    df['Solde avant transaction'] = None\n",
    "    df['Solde après transaction'] = None\n",
    "    df['Partenaire transaction'] = None\n",
    "    df['Numero portefeuille partenaire transaction'] = None\n",
    "    df['Compte bancaire partenaire'] = None\n",
    "\n",
    "    # When agent is expediteur (using agency recognition functions)\n",
    "    expediteur_mask = df['Nom portefeuille expediteur'].apply(is_any_agency)\n",
    "    df.loc[expediteur_mask, 'Nom portefeuille'] = df.loc[expediteur_mask, 'Nom portefeuille expediteur']\n",
    "    df.loc[expediteur_mask, 'Numero portefeuille'] = df.loc[expediteur_mask, 'Numero porte feuille expediteur']\n",
    "    df.loc[expediteur_mask, 'Solde avant transaction'] = df.loc[expediteur_mask, 'Solde expediteur avant transaction']\n",
    "    df.loc[expediteur_mask, 'Solde après transaction'] = df.loc[expediteur_mask, 'Solde expediteur apres transaction']\n",
    "    df.loc[expediteur_mask, 'Partenaire transaction'] = df.loc[expediteur_mask, 'Nom portefeuille destinataire']\n",
    "    df.loc[expediteur_mask, 'Numero portefeuille partenaire transaction'] = df.loc[expediteur_mask, 'Numero porte feuille destinataire']\n",
    "    \n",
    "    # Add bank account info when available\n",
    "    bank_mask = expediteur_mask & df['Compte bancaire destinataire'].notna()\n",
    "    df.loc[bank_mask, 'Compte bancaire partenaire'] = df.loc[bank_mask, 'Compte bancaire destinataire']\n",
    "    df.loc[bank_mask, 'Partenaire transaction'] = df.loc[bank_mask, 'Nom destinataire']\n",
    "\n",
    "    # When agent is destinataire (using agency recognition functions)\n",
    "    destinataire_mask = df['Nom portefeuille destinataire'].apply(is_any_agency)\n",
    "    df.loc[destinataire_mask, 'Nom portefeuille'] = df.loc[destinataire_mask, 'Nom portefeuille destinataire']\n",
    "    df.loc[destinataire_mask, 'Numero portefeuille'] = df.loc[destinataire_mask, 'Numero porte feuille destinataire']\n",
    "    df.loc[destinataire_mask, 'Solde avant transaction'] = df.loc[destinataire_mask, 'Solde destinataire avant transaction']\n",
    "    df.loc[destinataire_mask, 'Solde après transaction'] = df.loc[destinataire_mask, 'Solde destinataire apres transaction']\n",
    "    df.loc[destinataire_mask, 'Partenaire transaction'] = df.loc[destinataire_mask, 'Nom portefeuille expediteur']\n",
    "    df.loc[destinataire_mask, 'Numero portefeuille partenaire transaction'] = df.loc[destinataire_mask, 'Numero porte feuille expediteur']\n",
    "\n",
    "    # Sort by Nom portefeuille and Date/Heure to see progression\n",
    "    df = df.sort_values(['Nom portefeuille', 'Date transaction', 'Heure transaction'])\n",
    "\n",
    "    # Drop old columns\n",
    "    columns_to_drop = ['Nom portefeuille expediteur', 'Nom portefeuille destinataire',\n",
    "                      'Solde expediteur avant transaction', 'Solde expediteur apres transaction', \n",
    "                      'Solde destinataire avant transaction', 'Solde destinataire apres transaction',\n",
    "                      'Numero porte feuille expediteur', 'Numero porte feuille destinataire',\n",
    "                      'Compte bancaire destinataire', 'Nom destinataire']\n",
    "    df = df.drop(columns=columns_to_drop)\n",
    "\n",
    "    return df, annuaire_df, bank_annuaire\n",
    "\n",
    "# Apply the updated function to all agency dataframes\n",
    "hop_df, hop_annuaire, hop_bank_annuaire = create_solde_columns(hop_transactions_df)\n",
    "express_union_df, express_union_annuaire, express_union_bank_annuaire = create_solde_columns(express_union_transactions_df)\n",
    "emi_money_df, emi_money_annuaire, emi_money_bank_annuaire = create_solde_columns(emi_money_transactions_df)\n",
    "instant_transfer_df, instant_transfer_annuaire, instant_transfer_bank_annuaire = create_solde_columns(instant_transfer_transactions_df)\n",
    "multiservice_df, multiservice_annuaire, multiservice_bank_annuaire = create_solde_columns(multiservice_transactions_df)\n",
    "muffa_df, muffa_annuaire, muffa_bank_annuaire = create_solde_columns(muffa_transactions_df)\n",
    "call_box_df, call_box_annuaire, call_box_bank_annuaire = create_solde_columns(call_box_transactions_df)\n",
    "\n",
    "# Display results for verification\n",
    "print(\"HOP dataframe:\")\n",
    "hop_df.head()\n",
    "print(\"\\nExpress Union dataframe:\")\n",
    "express_union_df.head()\n",
    "print(\"\\nEMI Money dataframe:\")\n",
    "emi_money_df.head()"
   ]
  },
  {
   "cell_type": "code",
   "execution_count": null,
   "metadata": {},
   "outputs": [],
   "source": [
    "express_union_df.head()"
   ]
  },
  {
   "cell_type": "code",
   "execution_count": null,
   "metadata": {},
   "outputs": [],
   "source": [
    "emi_money_df.head()"
   ]
  },
  {
   "cell_type": "code",
   "execution_count": null,
   "metadata": {},
   "outputs": [],
   "source": [
    "instant_transfer_df.head()"
   ]
  },
  {
   "cell_type": "code",
   "execution_count": null,
   "metadata": {},
   "outputs": [],
   "source": [
    "instant_transfer_df[instant_transfer_df[\"Type transaction\"] == \"Retrait\"]"
   ]
  },
  {
   "cell_type": "code",
   "execution_count": null,
   "metadata": {},
   "outputs": [],
   "source": [
    "instant_transfer_df[instant_transfer_df[\"Nom portefeuille\"] == \"IT ACACIA YAOUNDE\"].head(20)"
   ]
  },
  {
   "cell_type": "code",
   "execution_count": null,
   "metadata": {},
   "outputs": [],
   "source": [
    "instant_transfer_transactions_df[instant_transfer_transactions_df['Type transaction'] == 'Retrait'].head()"
   ]
  },
  {
   "cell_type": "code",
   "execution_count": null,
   "metadata": {},
   "outputs": [],
   "source": [
    "multiservice_df.head()"
   ]
  },
  {
   "cell_type": "code",
   "execution_count": null,
   "metadata": {},
   "outputs": [],
   "source": [
    "muffa_df.head()"
   ]
  },
  {
   "cell_type": "code",
   "execution_count": null,
   "metadata": {},
   "outputs": [],
   "source": [
    "call_box_df.head()"
   ]
  },
  {
   "cell_type": "code",
   "execution_count": null,
   "metadata": {},
   "outputs": [],
   "source": []
  },
  {
   "cell_type": "code",
   "execution_count": null,
   "metadata": {},
   "outputs": [],
   "source": [
    "hop_transactions_df['Solde avant transaction'].isnull().sum(), hop_transactions_df['Solde après transaction'].isnull().sum()\n",
    "\n"
   ]
  },
  {
   "cell_type": "code",
   "execution_count": null,
   "metadata": {},
   "outputs": [],
   "source": [
    "express_union_transactions_df['Solde avant transaction'].isnull().sum(), express_union_transactions_df['Solde après transaction'].isnull().sum()"
   ]
  },
  {
   "cell_type": "code",
   "execution_count": null,
   "metadata": {},
   "outputs": [],
   "source": [
    "hop_df.columns"
   ]
  },
  {
   "cell_type": "code",
   "execution_count": 69,
   "metadata": {},
   "outputs": [],
   "source": [
    "# Reorder columns\n",
    "columns_order = ['Date transaction', 'Heure transaction', 'Reference transaction', \n",
    "                'Type transaction', 'Type utilisateur transaction', 'Nom portefeuille', \n",
    "                'Numero portefeuille', 'Solde avant transaction', 'Montant transaction',\n",
    "                'Solde après transaction', 'Partenaire transaction',\n",
    "                'Numero portefeuille partenaire transaction', 'Compte bancaire partenaire',\n",
    "                'Type canal', 'Statut transaction']\n",
    "\n",
    "hop_df = hop_df[columns_order]\n",
    "express_union_df = express_union_df[columns_order]\n",
    "instant_transfer_df = instant_transfer_df[columns_order]\n",
    "emi_money_df = emi_money_df[columns_order]\n",
    "multiservice_df = multiservice_df[columns_order]\n",
    "muffa_df = muffa_df[columns_order]\n",
    "call_box_df = call_box_df[columns_order]"
   ]
  },
  {
   "cell_type": "code",
   "execution_count": null,
   "metadata": {},
   "outputs": [],
   "source": [
    "hop_df.head()"
   ]
  },
  {
   "cell_type": "code",
   "execution_count": null,
   "metadata": {},
   "outputs": [],
   "source": [
    "express_union_df.head()"
   ]
  },
  {
   "cell_type": "code",
   "execution_count": null,
   "metadata": {},
   "outputs": [],
   "source": [
    "hop_df['Type transaction'].value_counts()"
   ]
  },
  {
   "cell_type": "code",
   "execution_count": null,
   "metadata": {},
   "outputs": [],
   "source": [
    "hop_df['Type utilisateur transaction'].value_counts()"
   ]
  },
  {
   "cell_type": "code",
   "execution_count": null,
   "metadata": {},
   "outputs": [],
   "source": [
    "express_union_df['Type utilisateur transaction'].value_counts()"
   ]
  },
  {
   "cell_type": "code",
   "execution_count": null,
   "metadata": {},
   "outputs": [],
   "source": [
    "express_union_df['Type transaction'].value_counts()"
   ]
  },
  {
   "cell_type": "code",
   "execution_count": null,
   "metadata": {},
   "outputs": [],
   "source": [
    "express_union_df.head()"
   ]
  },
  {
   "cell_type": "code",
   "execution_count": 77,
   "metadata": {},
   "outputs": [],
   "source": [
    "# Sort both dataframes by date and time\n",
    "hop_df = hop_df.sort_values(['Date transaction', 'Heure transaction'])\n",
    "express_union_df = express_union_df.sort_values(['Date transaction', 'Heure transaction'])\n",
    "instant_transfer_df = instant_transfer_df.sort_values(['Date transaction', 'Heure transaction'])\n",
    "emi_money_df = emi_money_df.sort_values(['Date transaction', 'Heure transaction'])\n",
    "multiservice_df = multiservice_df.sort_values(['Date transaction', 'Heure transaction'])\n",
    "muffa_df = muffa_df.sort_values(['Date transaction', 'Heure transaction'])\n",
    "call_box_df = call_box_df.sort_values(['Date transaction', 'Heure transaction'])\n"
   ]
  },
  {
   "cell_type": "code",
   "execution_count": 78,
   "metadata": {},
   "outputs": [],
   "source": [
    "# Sort both dataframes by expediteur name, date and time\n",
    "hop_df = hop_df.sort_values(['Nom portefeuille', 'Date transaction', 'Heure transaction'])\n",
    "express_union_df = express_union_df.sort_values(['Nom portefeuille', 'Date transaction', 'Heure transaction'])\n",
    "instant_transfer_df = instant_transfer_df.sort_values(['Nom portefeuille', 'Date transaction', 'Heure transaction'])\n",
    "emi_money_df = emi_money_df.sort_values(['Nom portefeuille', 'Date transaction', 'Heure transaction'])\n",
    "multiservice_df = multiservice_df.sort_values(['Nom portefeuille', 'Date transaction', 'Heure transaction'])\n",
    "muffa_df = muffa_df.sort_values(['Nom portefeuille', 'Date transaction', 'Heure transaction'])\n",
    "call_box_df = call_box_df.sort_values(['Nom portefeuille', 'Date transaction', 'Heure transaction'])\n"
   ]
  },
  {
   "cell_type": "code",
   "execution_count": null,
   "metadata": {},
   "outputs": [],
   "source": [
    "hop_df.head(20)"
   ]
  },
  {
   "cell_type": "code",
   "execution_count": 80,
   "metadata": {},
   "outputs": [],
   "source": [
    "hop_df.to_excel('transactions_hop_service_29_07_2025.xlsx')\n",
    "express_union_df.to_excel('transactions_express_union_29_07_2025.xlsx')\n",
    "instant_transfer_df.to_excel('transactions_instant_transfer_29_07_2025.xlsx')\n",
    "emi_money_df.to_excel('transactions_emi_money_29_07_2025.xlsx')\n",
    "multiservice_df.to_excel('transactions_multiservice_29_07_2025.xlsx')\n",
    "muffa_df.to_excel('transactions_muffa_29_07_2025.xlsx')\n",
    "call_box_df.to_excel('transactions_call_box_29_07_2025.xlsx')"
   ]
  },
  {
   "cell_type": "code",
   "execution_count": null,
   "metadata": {},
   "outputs": [],
   "source": []
  }
 ],
 "metadata": {
  "kernelspec": {
   "display_name": "CUDA",
   "language": "python",
   "name": "cuda_env"
  },
  "language_info": {
   "codemirror_mode": {
    "name": "ipython",
    "version": 3
   },
   "file_extension": ".py",
   "mimetype": "text/x-python",
   "name": "python",
   "nbconvert_exporter": "python",
   "pygments_lexer": "ipython3",
   "version": "3.12.7"
  }
 },
 "nbformat": 4,
 "nbformat_minor": 2
}
